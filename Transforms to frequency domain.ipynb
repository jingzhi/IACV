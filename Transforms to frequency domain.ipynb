{
 "cells": [
  {
   "cell_type": "markdown",
   "metadata": {},
   "source": [
    "|  \t| CTFT (continuous-time FT) \t| DTFT (discrete-time FT) \t| DFT (discrete FT) \t|\n",
    "| -------------------\t| ----------------------------------------------------------------------------\t| --------------------------------------------------------------------------\t| -----------------------------------------------------------\t|\n",
    "|  \t| $x(t)\\rightarrow X(j\\Omega)$ \t| $x[t]\\rightarrow X(e^{j\\omega})$ \t| $x(n)\\rightarrow X[k]$ \t|\n",
    "| Forward transform \t| $X(j\\Omega)=\\int^{\\infty}_{-\\infty}x(t)e^{-j\\Omega t}dt$ \t| $X(e^{j\\omega})=\\sum^{\\infty}_{-\\infty}x[n]e^{-j\\omega n}$ \t| $X[k]=\\sum^{N-1}_{0}x[n]e^{-j2\\pi\\frac{kn}{N}}$ \t|\n",
    "| Inverse transform \t| $x(t)=\\frac{1}{2\\pi}\\int^{\\infty}_{-\\infty}X(j\\Omega)e^{j\\Omega t}d\\Omega$ \t| $x[n]=\\frac{1}{2\\pi}\\int^{\\pi}_{-\\pi}X(e^{j\\omega})e^{j\\omega n}d\\omega$ \t| $x[n]=\\frac{1}{N}\\sum^{N-1}_{0}X[k]e^{j2\\pi\\frac{kn}{N}}$ \t|\n"
   ]
  },
  {
   "cell_type": "markdown",
   "metadata": {},
   "source": [
    "# Fourier series\n",
    "## Dirichlet conditions\n",
    "### Strong Dirichlet conditions\n",
    "They are sufficient conditions for real-valued periodic function f to have valid Fourier series representation at each continuous point of f.\n",
    "\n",
    "At points of discontinuity, the Fourier series will evaluate to $\\frac{f(x+)}{2}+\\frac{f(x-)}{2}.$\n",
    "\n",
    "1. f(x) is periodic\n",
    "2. f(x) is single valued. (must be a function)\n",
    "3. finite numeber of finity discontinuity\n",
    "4. finite number of maxima and minima in one period.\n",
    "5. integral over the period must converge.\n",
    "\n",
    "### Weak Dirichlet conditions\n",
    "The function f(x) is absolutely integrable over one period, that is\n",
    "$$\\int_{T_0}|f(x)|dx < \\infty$$\n",
    "\n",
    "Strong Dirichlet guarantees convergence at every point.\n",
    "\n",
    "Week Dirichlet guarantees existance of Fourier series but not necessarily converge at all points.\n",
    "\n",
    "## Sin and Cos series\n",
    "### Even and Odd\n",
    "The following discussed functions are functions that satisfies Dirichlet conditions.\n",
    "1. An even function can be expressed as sum of cosine functions alone.\n",
    "2. An odd function can be expessed as sum of sine functions alone.\n",
    "3. A function can be written as a sum of its even part and odd part.\n",
    "\n",
    "    $$\\begin{align}\n",
    "    f(x)=&\\frac{f(x)+f(-x)}{2} &+& \\frac{f(x)-f(-x)}{2}\\\\\n",
    "    &\\text{even}&&\\text{odd}\n",
    "    \\end{align}$$\n",
    "    \n",
    "Thus any function can be expressed as the sum of sines and cosines.\n",
    "### Periodicity\n",
    "For a function f(x) with period T, the foundamental frequency is $\\frac{1}{T}$. f(x) can be expressed as a sum of cos and cos with frequencies 0,F,2F,3F .....\n",
    "\n",
    "## Complex exponential series\n",
    "\n"
   ]
  },
  {
   "cell_type": "markdown",
   "metadata": {},
   "source": [
    "# 1 1D Fourier Transform\n",
    "1D means there is only one variable t in the signal f(t). The frequency domain represents the signal using a set of orthogonal basis functions.\n",
    "\n",
    "\n"
   ]
  }
 ],
 "metadata": {
  "kernelspec": {
   "display_name": "Python 3",
   "language": "python",
   "name": "python3"
  },
  "language_info": {
   "codemirror_mode": {
    "name": "ipython",
    "version": 3
   },
   "file_extension": ".py",
   "mimetype": "text/x-python",
   "name": "python",
   "nbconvert_exporter": "python",
   "pygments_lexer": "ipython3",
   "version": "3.5.2"
  }
 },
 "nbformat": 4,
 "nbformat_minor": 2
}

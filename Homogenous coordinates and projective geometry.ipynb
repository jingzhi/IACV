{
 "cells": [
  {
   "cell_type": "markdown",
   "metadata": {},
   "source": [
    "[interactive guide](https://wordsandbuttons.online/interactive_guide_to_homogeneous_coordinates.html)\n",
    "\n",
    "[short tutorial](https://www.tomdalling.com/blog/modern-opengl/explaining-homogenous-coordinates-and-projective-geometry/)\n",
    "\n",
    "# Homogenous coordinate\n",
    "\n",
    "## 2-Dimension\n",
    "\n",
    "### Points\n",
    "Homogenous coordinate $(x_1,x_2,x_3)$ of a finite point $(x,y)$ in Catesian plane are __any__ three numbers for which\n",
    "$$\\frac{x_1}{x_3}=x,$$\n",
    "\n",
    "$$\\frac{x_2}{x_3}=y.$$\n",
    "Thus points with homogenous coordinate $(x_1,x_2,0)$ describes the point at infinity in the direction $\\lambda=\\frac{x_2}{x_1}$.\n",
    "\n",
    "### Lines\n",
    "\n",
    "Cartesian line:\n",
    "$$a_1x+a_2y+a_3=0$$\n",
    "Homogenous line:\n",
    "$$a_1x_1+a_2x_2+a_3x_3=0$$\n",
    "Where $\\frac{x_1}{x_3}=x$ and $\\frac{x_2}{x_3}=y $ still holds.\n",
    "\n",
    "* Points with same $x_1$ and $x_2$ are on the same line with gradient $\\lambda=\\frac{x_2}{x_1}$.\n",
    "\n",
    "\n",
    "\n"
   ]
  }
 ],
 "metadata": {
  "kernelspec": {
   "display_name": "Python 3",
   "language": "python",
   "name": "python3"
  },
  "language_info": {
   "codemirror_mode": {
    "name": "ipython",
    "version": 3
   },
   "file_extension": ".py",
   "mimetype": "text/x-python",
   "name": "python",
   "nbconvert_exporter": "python",
   "pygments_lexer": "ipython3",
   "version": "3.5.2"
  }
 },
 "nbformat": 4,
 "nbformat_minor": 2
}

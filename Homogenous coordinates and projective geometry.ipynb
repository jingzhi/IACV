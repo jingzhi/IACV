{
 "cells": [
  {
   "cell_type": "markdown",
   "metadata": {},
   "source": [
    "[interactive guide](https://wordsandbuttons.online/interactive_guide_to_homogeneous_coordinates.html)\n",
    "\n",
    "# Homogenous coordinate\n",
    "\n",
    "## 2-Dimension\n",
    "Essentially, homogeneous coordiniates projects a point in 3D to 2D as its representation.\n",
    "Take any point in 3D (x,y,z), connect that point with the origin. The intersection between the line formed and the (0,0,1) plane gives a point of coordinate (x',y',1). This (x',y') will be the point in 2D represened by the homogeneous coordinates.\n",
    "\n",
    "This correspondes to a perspective projection with projection point at origin and image plane at (0,0,1). That is, f normalised to 1.\n",
    "### Points\n",
    "Homogenous coordinate $(x_1,x_2,x_3)$ of a finite point $(x,y)$ in Catesian plane are __any__ three numbers for which\n",
    "$$\\frac{x_1}{x_3}=x,$$\n",
    "\n",
    "$$\\frac{x_2}{x_3}=y.$$\n",
    "Thus points with homogenous coordinate $(x_1,x_2,0)$ describes the point at infinity in the direction $\\lambda=\\frac{x_2}{x_1}$.\n",
    "\n",
    "### Lines\n",
    "\n",
    "Cartesian line:\n",
    "$$a_1x+a_2y+a_3=0$$\n",
    "Homogenous line:\n",
    "$$a_1x_1+a_2x_2+a_3x_3=0$$\n",
    "Where $\\frac{x_1}{x_3}=x$ and $\\frac{x_2}{x_3}=y $ still holds.\n",
    "\n",
    "* Points with same $x_1$ and $x_2$ are on the same line passing through origin with gradient $\\lambda=\\frac{x_2}{x_1}$. For Z < 1, the point lies outside the circle centered at origin with radius $r=\\sqrt{x_1^2+x_2^2}$. For Z>0, the points lies inside the circle\n",
    "\n",
    "\n",
    "\n"
   ]
  }
 ],
 "metadata": {
  "kernelspec": {
   "display_name": "Python 3",
   "language": "python",
   "name": "python3"
  },
  "language_info": {
   "codemirror_mode": {
    "name": "ipython",
    "version": 3
   },
   "file_extension": ".py",
   "mimetype": "text/x-python",
   "name": "python",
   "nbconvert_exporter": "python",
   "pygments_lexer": "ipython3",
   "version": "3.6.5"
  }
 },
 "nbformat": 4,
 "nbformat_minor": 2
}

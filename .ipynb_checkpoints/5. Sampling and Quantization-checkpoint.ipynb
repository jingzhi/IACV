{
 "cells": [
  {
   "cell_type": "markdown",
   "metadata": {},
   "source": [
    "# Overview \n",
    "For computer processing of imgae, the image has to be described by a finite set of finite precision numbers. This calls for two kinds to discretisation:\n",
    "1. sampling (discrete locations)\n",
    "2. quantisation (discrete brightness level at each location)\n",
    "Uniform sampling: tessellation with regular polygon. (square, triangle, hexagon)\n",
    "\n",
    "Non-uniform sampling:\n",
    "* locations with little detail: coarse sampling,fine quantisation\n",
    "* location with details: fine sampling, coarse quntisation.``"
   ]
  },
  {
   "cell_type": "markdown",
   "metadata": {},
   "source": [
    "# Sampling\n",
    "## Sampling model\n",
    "* The intensity attributed to a pixel corresponds to the integration of incoming irradiance over a cell of the tessellation.\n",
    "* The pixel located at discrete position.\n",
    "This can be modeled in two-steps:\n"
   ]
  }
 ],
 "metadata": {
  "kernelspec": {
   "display_name": "Python 3",
   "language": "python",
   "name": "python3"
  },
  "language_info": {
   "codemirror_mode": {
    "name": "ipython",
    "version": 3
   },
   "file_extension": ".py",
   "mimetype": "text/x-python",
   "name": "python",
   "nbconvert_exporter": "python",
   "pygments_lexer": "ipython3",
   "version": "3.5.2"
  }
 },
 "nbformat": 4,
 "nbformat_minor": 2
}

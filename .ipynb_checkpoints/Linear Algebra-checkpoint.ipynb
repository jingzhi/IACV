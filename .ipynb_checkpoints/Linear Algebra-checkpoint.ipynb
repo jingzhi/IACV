{
 "cells": [
  {
   "cell_type": "markdown",
   "metadata": {},
   "source": [
    "The illustration from 3blue1brown on the\n",
    "[Essence of linear algebra](https://www.youtube.com/playlist?list=PLZHQObOWTQDPD3MizzM2xVFitgF8hE_ab) is very useful."
   ]
  },
  {
   "cell_type": "markdown",
   "metadata": {},
   "source": [
    "# Spaces\n",
    "## 1. Vector space:\n",
    "A vector space is collection of objects known as vectors that form a __non-empty set__ E with two operations 1) vector addition 2) scalar multiplication. The two opertaion must satisfy the following properties:\n",
    "\n",
    "For vector addition: \n",
    "0. Closure\n",
    "1. Commutative law: $\\mathbf{x} + \\mathbf{y} = \\mathbf{y} + \\mathbf{x}$\n",
    "2. Associativie law: $\\mathbf{x} + \\mathbf{y} +\\mathbf{z} = \\mathbf{y} + (\\mathbf{x} +\\mathbf{z})$\n",
    "3. Additive identity: the set E contains an additive identity element, denoted by $\\mathbf{0}$, such that for any $\\mathbf{x} \\in E$, $\\mathbf{x} + \\mathbf{0} = \\mathbf{x}$\n",
    "4. Additive inverses: for any $\\mathbf{x} \\in E$, $\\mathbf{x} + \\mathbf{y} = \\mathbf{0}$ has a solution $\\mathbf{y} \\in E$ and is denoted by $-\\mathbf{x}$.\n",
    "\n",
    "For scalar multiplication:\n",
    "0. Closure\n",
    "1. Distributive law(wrt scalar): $(\\alpha+\\beta)\\mathbf{x} = \\alpha\\mathbf{x} + \\beta\\mathbf{x} $\n",
    "2. Distributive law(wrt vector): $\\alpha(\\mathbf{x}+\\mathbf{y})=\\alpha\\mathbf{x}+\\alpha\\mathbf{y}$\n",
    "3. Associative law: $\\alpha(\\beta\\mathbf{x})=(\\alpha\\beta)\\mathbf{x}$\n",
    "4. Unitary law: $1\\mathbf{x}=\\mathbf{x}$\n",
    "Note that by this definition vector $\\mathbf{0}$ is always in the vector space\n",
    "\n",
    "## 2. Subspaces\n",
    "Definition: Let V be a vector space, and let W be a subset of V. If W is a vector space with respect to the operations in V, then W is called a subspace of V. \n",
    "* W is also a vector space\n",
    "    - zero belongs to W\n",
    "    - closed under +\n",
    "    - closed under $\\cdot$"
   ]
  },
  {
   "cell_type": "markdown",
   "metadata": {},
   "source": []
  },
  {
   "cell_type": "markdown",
   "metadata": {},
   "source": [
    "# Matrix Multiplication \n",
    "\n",
    "A matrix of dimention $m\\times n$ can be though as a collection of n column vectors each with m entries.\n",
    "$$ A_{m,n} =[\\mathbf{v_1},\\mathbf{v_2},\\dots,\\mathbf{v_j},\\dots,\\mathbf{v_n}] $$\n",
    "$$ \\mathbf{v}_j =\\begin{bmatrix}\n",
    "v_{j1} \\\\\n",
    "\\vdots \\\\\n",
    "v_{ji} \\\\\n",
    "\\vdots \\\\\n",
    "v_{jm} \n",
    "\\end{bmatrix} $$\n",
    "\n",
    "When we perform $A_{m,n}\\mathbf{x}$ on a n-d column vector $\\mathbf{x}$,  it represents a linear transformation of a point in n-d to a point in m-d. The n-columns of A represent transformations on n-unit vectors in n-dimention respectively. Each column of A can be seen as the how the basis vectors of the original space is transformed in the new space. \n",
    "\n",
    "Imagine appling $A_{3,3}$ on the Cartesian basis of 3D coordinates, we are extracting the first column of A in return for $\\mathbf{i}$, second and third column for $\\mathbf{j}$ and $\\mathbf{k}$ respectively.\n",
    "\n",
    "A matrix of dimention $m\\times n$ can be multiply with a matrix with dimension $n\\times l$ to yield a matrix of dimension $m\\times l$. It can be seen as the resultant transformation matrix as a whole representing a transfommation fom l-d to m-d.\n",
    "\n"
   ]
  }
 ],
 "metadata": {
  "kernelspec": {
   "display_name": "Python 3",
   "language": "python",
   "name": "python3"
  },
  "language_info": {
   "codemirror_mode": {
    "name": "ipython",
    "version": 3
   },
   "file_extension": ".py",
   "mimetype": "text/x-python",
   "name": "python",
   "nbconvert_exporter": "python",
   "pygments_lexer": "ipython3",
   "version": "3.6.5"
  }
 },
 "nbformat": 4,
 "nbformat_minor": 2
}

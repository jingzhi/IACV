{
 "cells": [
  {
   "cell_type": "markdown",
   "metadata": {},
   "source": [
    "# Overview \n",
    "For computer processing of imgae, the image has to be described by a finite set of finite precision numbers. This calls for two kinds to discretisation:\n",
    "1. sampling (discrete locations)\n",
    "2. quantisation (discrete brightness level at each location)\n",
    "Uniform sampling: tessellation with regular polygon. (square, triangle, hexagon)\n",
    "\n",
    "Non-uniform sampling:\n",
    "* locations with little detail: coarse sampling,fine quantisation\n",
    "* location with details: fine sampling, coarse quntisation.``"
   ]
  },
  {
   "cell_type": "markdown",
   "metadata": {},
   "source": [
    "# Sampling\n",
    "## Sampling model\n",
    "* The intensity attributed to a pixel corresponds to the integration of incoming irradiance over a cell of the tessellation.\n",
    "* The pixel located at discrete position.\n",
    "* Let input intensity at position (x,y) be $i(x,y)$\n",
    "\n",
    "Sampling can be modeled in two-steps:\n",
    "1. integrate brightness over regions of pixel size.\n",
    "    * Define a neighbourhood function $p(x,y)$ which is 1 within the shape of a pixel and 0 outside.\n",
    "    * The output intensity at any point $(x',y')$ (still the full coordinates) is given by\n",
    "    $$ \\begin{align} o(x',y') &=\\iint i(x,y)p(x-x',y-y') dxdy\\\\ \n",
    "     &=\\iint i(x,y)p(-(x'-x),-(y'-y)) dxdy\\\\ \n",
    "     &= i(x',y')*p(-x',-y')\\end{align}$$\n",
    "     \n",
    "    $$\\text{//change variable, and since p is symmetric}\\\\ o(x,y)= i(x,y)*p(x,y)$$\n",
    "2. read out value at the pixel position\n",
    "Select the value of convolution at pixel position by multiplication with 2D impulse trains.\n",
    "    $$ f(a,b) =\\iint f(x,y)\\delta(x-a,y-b) dxdy $$\n",
    "    \n",
    "## Linear, shift invariant operators\n",
    "Every linear and shift=invariant operation boils down to a convolution and vice versa.\n",
    "The linear shift invariant operation is especially useful since it allows us to track the transformation/process/system by tracking what happens to some basis. For which all inputs can be understood via linear combination of basis.\n",
    "\n",
    "Here the basis will be Dirac pulses since any arbitary image can be considered as a sum of Dirac pulses. Similar to implse response, we define __point spread function__ , r(x,y), of a LSI operator O. $r(x,y)$ will be the output of O for a Dirac pulse centered at (0,0), $\\delta(x,y)$.\n",
    "\n",
    "| input | output |\n",
    "| :----------------------------------------- | :-----------------------------------------  |\n",
    "|$\\delta(x,y)$|$r(x,y)$|\n",
    "|$\\delta(x-\\alpha,y-\\beta)$|$r(x-\\alpha,y-\\beta)$|\n",
    "|$i(x,y) =\\iint i(\\alpha,\\beta)\\delta(x-\\alpha,y-\\beta) d\\alpha,d\\beta$|$o(x,y) =\\iint i(\\alpha,\\beta)r(x-\\alpha,y-\\beta) d\\alpha,d\\beta$|\n",
    "\n",
    "Notice that \n",
    "$$\\begin{align} \n",
    "o(x,y) &=\\iint i(\\alpha,\\beta)r(x-\\alpha,y-\\beta) d\\alpha,d\\beta\\\\\n",
    "&=(i*r)(x,y)\\\\\n",
    "&=(r*i)(x,y)\n",
    "\\end{align}\n",
    "$$\n",
    "\n",
    "Thus we can see any LSI operation can be written as convolution with the point spread function (a.k.a. kernel, filter).\n",
    "\n",
    "If a filter can be broken down into simpler filters in which consequtive application of the simple filters give the same output, the filter is said to be __separable__.\n",
    "\n",
    "## Fourier transform in 2D\n",
    "Since all LSI systems can be viewed as 2D convolution, and 2D convolution is multiplication in the frequency domain. The spatial frequency domain is especially useful for LSI systems.\n",
    "\n",
    "### Meaning of frequncy in spatial domain\n",
    "The frequency domain represents each image using the set of 2D orthogonal basis functions:\n",
    "$$ e^{i2\\pi(ux+vy)} = cos2\\pi(ux+vy)+isin2\\pi(ux+vy)$$\n",
    "\n",
    "## Convolution theorem\n",
    "\n",
    "## Sampling theorem\n",
    "\n",
    "## Aliasing\n",
    "\n",
    "## Discrete Fourier transform\n"
   ]
  },
  {
   "cell_type": "markdown",
   "metadata": {},
   "source": [
    "# Quantisation"
   ]
  }
 ],
 "metadata": {
  "kernelspec": {
   "display_name": "Python 3",
   "language": "python",
   "name": "python3"
  },
  "language_info": {
   "codemirror_mode": {
    "name": "ipython",
    "version": 3
   },
   "file_extension": ".py",
   "mimetype": "text/x-python",
   "name": "python",
   "nbconvert_exporter": "python",
   "pygments_lexer": "ipython3",
   "version": "3.6.6"
  }
 },
 "nbformat": 4,
 "nbformat_minor": 2
}
